{
 "cells": [
  {
   "cell_type": "code",
   "execution_count": 16,
   "metadata": {},
   "outputs": [
    {
     "data": {
      "text/plain": [
       "-1"
      ]
     },
     "execution_count": 16,
     "metadata": {},
     "output_type": "execute_result"
    }
   ],
   "source": [
    "import cv2,os\n",
    "import numpy as np\n",
    "import csv\n",
    "import glob\n",
    "\n",
    "label = \"Parasitized\"\n",
    "dirList = glob.glob(\"cell_images/\"+label+\"/*.png\")\n",
    "#print(dirList)\n",
    "file = open(\"malaria.csv\",\"a\")\n",
    "\n",
    "for img_path in dirList:\n",
    "\n",
    "\tim = cv2.imread(img_path)\n",
    "\tprint(img_path)\n",
    "\tim = cv2.GaussianBlur(im,(5,5),2)\n",
    "\n",
    "\n",
    "\n",
    "\tim_gray = cv2.cvtColor(im,cv2.COLOR_BGR2GRAY)\n",
    "\n",
    "\tret,thresh = cv2.threshold(im_gray,127,255,0)\n",
    "\tcontours,h = cv2.findContours(thresh,1,2)\n",
    "\t\n",
    "\tfor contour in contours:\n",
    "\t\tcv2.drawContours(im_gray, contours, -1, (0,255,0), 3)\n",
    "\t\n",
    "\n",
    "\tcv2.imshow(\"window\",im_gray)\n",
    "\n",
    "\tbreak\n",
    "\n",
    "\n",
    "\tfile.write(label)\n",
    "\tfile.write(\",\")\n",
    "\n",
    "\tfor i in range(5):\n",
    "\t\ttry:\n",
    "\t\t\tarea = cv2.contourArea(contours[i])\n",
    "\t\t\tfile.write(str(area))\n",
    "\t\texcept:\n",
    "\t\t\tfile.write(\"0\")\n",
    "\n",
    "\t\tfile.write(\",\")\n",
    "\n",
    "\t\n",
    "\tfile.write(\"\\n\")\n",
    "\n",
    "\n",
    "cv2.waitKey(19000)"
   ]
  },
  {
   "cell_type": "code",
   "execution_count": 17,
   "metadata": {},
   "outputs": [
    {
     "name": "stdout",
     "output_type": "stream",
     "text": [
      "test_cells\\C1_thinF_IMG_20150604_104722_cell_15.png\n",
      "test_cells\\C1_thinF_IMG_20150604_104722_cell_60.png\n",
      "test_cells\\C1_thinF_IMG_20150604_104722_cell_66.png\n",
      "test_cells\\C1_thinF_IMG_20150604_104722_cell_73.png\n",
      "test_cells\\C1_thinF_IMG_20150604_104722_cell_9.png\n",
      "test_cells\\C33P1thinF_IMG_20150619_114756a_cell_179.png\n",
      "test_cells\\C33P1thinF_IMG_20150619_114756a_cell_180.png\n",
      "test_cells\\C33P1thinF_IMG_20150619_114756a_cell_181.png\n",
      "test_cells\\C33P1thinF_IMG_20150619_114756a_cell_182.png\n",
      "test_cells\\C33P1thinF_IMG_20150619_115740a_cell_161.png\n"
     ]
    },
    {
     "data": {
      "text/plain": [
       "-1"
      ]
     },
     "execution_count": 17,
     "metadata": {},
     "output_type": "execute_result"
    }
   ],
   "source": [
    "# Testing Images\n",
    "import cv2,os\n",
    "import numpy as np\n",
    "import csv\n",
    "import glob\n",
    "\n",
    "label = \"Parasitized\"\n",
    "dirList = glob.glob(\"test_cells/\"+\"/*.png\")\n",
    "#print(dirList)\n",
    "file = open(\"test_malaria.csv\",\"a\")\n",
    "\n",
    "for img_path in dirList:\n",
    "\n",
    "\tim = cv2.imread(img_path)\n",
    "\tprint(img_path)\n",
    "\tim = cv2.GaussianBlur(im,(5,5),2)\n",
    "\n",
    "\n",
    "\n",
    "\tim_gray = cv2.cvtColor(im,cv2.COLOR_BGR2GRAY)\n",
    "\n",
    "\tret,thresh = cv2.threshold(im_gray,127,255,0)\n",
    "\tcontours,h = cv2.findContours(thresh,1,2)\n",
    "\t\n",
    "\tfor contour in contours:\n",
    "\t\tcv2.drawContours(im_gray, contours, -1, (0,255,0), 3)\n",
    "\t\n",
    "\n",
    "\tcv2.imshow(\"window\",im_gray)\n",
    "\n",
    "\n",
    "    \n",
    "\tfor i in range(5):\n",
    "\t\ttry:\n",
    "\t\t\tarea = cv2.contourArea(contours[i])\n",
    "\t\t\tfile.write(str(area))\n",
    "\t\texcept:\n",
    "\t\t\tfile.write(\"0\")\n",
    "\n",
    "\t\tfile.write(\",\")\n",
    "\n",
    "\t\n",
    "\tfile.write(\"\\n\")\n",
    "\n",
    "\n",
    "cv2.waitKey(19000)"
   ]
  },
  {
   "cell_type": "code",
   "execution_count": 18,
   "metadata": {},
   "outputs": [
    {
     "name": "stdout",
     "output_type": "stream",
     "text": [
      "              precision    recall  f1-score   support\n",
      "\n",
      " Parasitized       0.90      0.90      0.90      2771\n",
      "  Uninfected       0.90      0.89      0.90      2741\n",
      "\n",
      "   micro avg       0.90      0.90      0.90      5512\n",
      "   macro avg       0.90      0.90      0.90      5512\n",
      "weighted avg       0.90      0.90      0.90      5512\n",
      "\n",
      "0.898766328011611\n"
     ]
    }
   ],
   "source": [
    "import pandas as pd\n",
    "from sklearn.model_selection import train_test_split\n",
    "from sklearn.ensemble import RandomForestClassifier\n",
    "from sklearn import metrics\n",
    "\n",
    "##Step1: Load Dataset\n",
    "\n",
    "dataframe = pd.read_csv(\"malaria.csv\")\n",
    "#print(dataframe.head())\n",
    "\n",
    "#Step2: Split into training and test data\n",
    "x = dataframe.drop([\"Label\"],axis=1)\n",
    "y = dataframe[\"Label\"]\n",
    "x_train, x_test, y_train, y_test = train_test_split(x,y,test_size=0.2,random_state=42)\n",
    "\n",
    "##Step4: Build a model\n",
    "\n",
    "model = RandomForestClassifier(n_estimators=100,max_depth=5)\n",
    "model.fit(x_train,y_train)\n",
    "\n",
    "\n",
    "##Step5: Make predictions and get classification report\n",
    "\n",
    "predictions = model.predict(x_test)\n",
    "\n",
    "print(metrics.classification_report(predictions,y_test))\n",
    "print(model.score(x_test,y_test))\n"
   ]
  },
  {
   "cell_type": "code",
   "execution_count": 19,
   "metadata": {},
   "outputs": [],
   "source": [
    "df=pd.read_csv(\"test_malaria.csv\",names=['a1','a2','a3','a4','a5'])"
   ]
  },
  {
   "cell_type": "code",
   "execution_count": 20,
   "metadata": {},
   "outputs": [],
   "source": [
    "del df['a5']"
   ]
  },
  {
   "cell_type": "code",
   "execution_count": 21,
   "metadata": {},
   "outputs": [
    {
     "data": {
      "text/html": [
       "<div>\n",
       "<style scoped>\n",
       "    .dataframe tbody tr th:only-of-type {\n",
       "        vertical-align: middle;\n",
       "    }\n",
       "\n",
       "    .dataframe tbody tr th {\n",
       "        vertical-align: top;\n",
       "    }\n",
       "\n",
       "    .dataframe thead th {\n",
       "        text-align: right;\n",
       "    }\n",
       "</style>\n",
       "<table border=\"1\" class=\"dataframe\">\n",
       "  <thead>\n",
       "    <tr style=\"text-align: right;\">\n",
       "      <th></th>\n",
       "      <th>a1</th>\n",
       "      <th>a2</th>\n",
       "      <th>a3</th>\n",
       "      <th>a4</th>\n",
       "    </tr>\n",
       "  </thead>\n",
       "  <tbody>\n",
       "    <tr>\n",
       "      <th>0</th>\n",
       "      <td>9056.5</td>\n",
       "      <td>0.0</td>\n",
       "      <td>0.0</td>\n",
       "      <td>0</td>\n",
       "    </tr>\n",
       "    <tr>\n",
       "      <th>1</th>\n",
       "      <td>12675.5</td>\n",
       "      <td>0.0</td>\n",
       "      <td>0.0</td>\n",
       "      <td>0</td>\n",
       "    </tr>\n",
       "    <tr>\n",
       "      <th>2</th>\n",
       "      <td>8270.5</td>\n",
       "      <td>0.0</td>\n",
       "      <td>0.0</td>\n",
       "      <td>0</td>\n",
       "    </tr>\n",
       "    <tr>\n",
       "      <th>3</th>\n",
       "      <td>8700.0</td>\n",
       "      <td>0.0</td>\n",
       "      <td>0.0</td>\n",
       "      <td>0</td>\n",
       "    </tr>\n",
       "    <tr>\n",
       "      <th>4</th>\n",
       "      <td>9415.0</td>\n",
       "      <td>0.0</td>\n",
       "      <td>0.0</td>\n",
       "      <td>0</td>\n",
       "    </tr>\n",
       "    <tr>\n",
       "      <th>5</th>\n",
       "      <td>60.5</td>\n",
       "      <td>68.0</td>\n",
       "      <td>72.5</td>\n",
       "      <td>16005</td>\n",
       "    </tr>\n",
       "    <tr>\n",
       "      <th>6</th>\n",
       "      <td>82.5</td>\n",
       "      <td>13849.5</td>\n",
       "      <td>0.0</td>\n",
       "      <td>0</td>\n",
       "    </tr>\n",
       "    <tr>\n",
       "      <th>7</th>\n",
       "      <td>258.5</td>\n",
       "      <td>14255.5</td>\n",
       "      <td>0.0</td>\n",
       "      <td>0</td>\n",
       "    </tr>\n",
       "    <tr>\n",
       "      <th>8</th>\n",
       "      <td>15630.5</td>\n",
       "      <td>0.0</td>\n",
       "      <td>0.0</td>\n",
       "      <td>0</td>\n",
       "    </tr>\n",
       "    <tr>\n",
       "      <th>9</th>\n",
       "      <td>121.5</td>\n",
       "      <td>10952.5</td>\n",
       "      <td>0.0</td>\n",
       "      <td>0</td>\n",
       "    </tr>\n",
       "  </tbody>\n",
       "</table>\n",
       "</div>"
      ],
      "text/plain": [
       "        a1       a2    a3     a4\n",
       "0   9056.5      0.0   0.0      0\n",
       "1  12675.5      0.0   0.0      0\n",
       "2   8270.5      0.0   0.0      0\n",
       "3   8700.0      0.0   0.0      0\n",
       "4   9415.0      0.0   0.0      0\n",
       "5     60.5     68.0  72.5  16005\n",
       "6     82.5  13849.5   0.0      0\n",
       "7    258.5  14255.5   0.0      0\n",
       "8  15630.5      0.0   0.0      0\n",
       "9    121.5  10952.5   0.0      0"
      ]
     },
     "execution_count": 21,
     "metadata": {},
     "output_type": "execute_result"
    }
   ],
   "source": [
    "df"
   ]
  },
  {
   "cell_type": "code",
   "execution_count": 22,
   "metadata": {},
   "outputs": [],
   "source": [
    "df.reset_index(inplace=True)"
   ]
  },
  {
   "cell_type": "code",
   "execution_count": 23,
   "metadata": {},
   "outputs": [],
   "source": [
    "df.rename(columns={'index':'a0'},inplace=True)"
   ]
  },
  {
   "cell_type": "code",
   "execution_count": 24,
   "metadata": {},
   "outputs": [
    {
     "data": {
      "text/html": [
       "<div>\n",
       "<style scoped>\n",
       "    .dataframe tbody tr th:only-of-type {\n",
       "        vertical-align: middle;\n",
       "    }\n",
       "\n",
       "    .dataframe tbody tr th {\n",
       "        vertical-align: top;\n",
       "    }\n",
       "\n",
       "    .dataframe thead th {\n",
       "        text-align: right;\n",
       "    }\n",
       "</style>\n",
       "<table border=\"1\" class=\"dataframe\">\n",
       "  <thead>\n",
       "    <tr style=\"text-align: right;\">\n",
       "      <th></th>\n",
       "      <th>a0</th>\n",
       "      <th>a1</th>\n",
       "      <th>a2</th>\n",
       "      <th>a3</th>\n",
       "      <th>a4</th>\n",
       "    </tr>\n",
       "  </thead>\n",
       "  <tbody>\n",
       "    <tr>\n",
       "      <th>0</th>\n",
       "      <td>0</td>\n",
       "      <td>9056.5</td>\n",
       "      <td>0.0</td>\n",
       "      <td>0.0</td>\n",
       "      <td>0</td>\n",
       "    </tr>\n",
       "    <tr>\n",
       "      <th>1</th>\n",
       "      <td>1</td>\n",
       "      <td>12675.5</td>\n",
       "      <td>0.0</td>\n",
       "      <td>0.0</td>\n",
       "      <td>0</td>\n",
       "    </tr>\n",
       "    <tr>\n",
       "      <th>2</th>\n",
       "      <td>2</td>\n",
       "      <td>8270.5</td>\n",
       "      <td>0.0</td>\n",
       "      <td>0.0</td>\n",
       "      <td>0</td>\n",
       "    </tr>\n",
       "    <tr>\n",
       "      <th>3</th>\n",
       "      <td>3</td>\n",
       "      <td>8700.0</td>\n",
       "      <td>0.0</td>\n",
       "      <td>0.0</td>\n",
       "      <td>0</td>\n",
       "    </tr>\n",
       "    <tr>\n",
       "      <th>4</th>\n",
       "      <td>4</td>\n",
       "      <td>9415.0</td>\n",
       "      <td>0.0</td>\n",
       "      <td>0.0</td>\n",
       "      <td>0</td>\n",
       "    </tr>\n",
       "    <tr>\n",
       "      <th>5</th>\n",
       "      <td>5</td>\n",
       "      <td>60.5</td>\n",
       "      <td>68.0</td>\n",
       "      <td>72.5</td>\n",
       "      <td>16005</td>\n",
       "    </tr>\n",
       "    <tr>\n",
       "      <th>6</th>\n",
       "      <td>6</td>\n",
       "      <td>82.5</td>\n",
       "      <td>13849.5</td>\n",
       "      <td>0.0</td>\n",
       "      <td>0</td>\n",
       "    </tr>\n",
       "    <tr>\n",
       "      <th>7</th>\n",
       "      <td>7</td>\n",
       "      <td>258.5</td>\n",
       "      <td>14255.5</td>\n",
       "      <td>0.0</td>\n",
       "      <td>0</td>\n",
       "    </tr>\n",
       "    <tr>\n",
       "      <th>8</th>\n",
       "      <td>8</td>\n",
       "      <td>15630.5</td>\n",
       "      <td>0.0</td>\n",
       "      <td>0.0</td>\n",
       "      <td>0</td>\n",
       "    </tr>\n",
       "    <tr>\n",
       "      <th>9</th>\n",
       "      <td>9</td>\n",
       "      <td>121.5</td>\n",
       "      <td>10952.5</td>\n",
       "      <td>0.0</td>\n",
       "      <td>0</td>\n",
       "    </tr>\n",
       "  </tbody>\n",
       "</table>\n",
       "</div>"
      ],
      "text/plain": [
       "   a0       a1       a2    a3     a4\n",
       "0   0   9056.5      0.0   0.0      0\n",
       "1   1  12675.5      0.0   0.0      0\n",
       "2   2   8270.5      0.0   0.0      0\n",
       "3   3   8700.0      0.0   0.0      0\n",
       "4   4   9415.0      0.0   0.0      0\n",
       "5   5     60.5     68.0  72.5  16005\n",
       "6   6     82.5  13849.5   0.0      0\n",
       "7   7    258.5  14255.5   0.0      0\n",
       "8   8  15630.5      0.0   0.0      0\n",
       "9   9    121.5  10952.5   0.0      0"
      ]
     },
     "execution_count": 24,
     "metadata": {},
     "output_type": "execute_result"
    }
   ],
   "source": [
    "df"
   ]
  },
  {
   "cell_type": "code",
   "execution_count": 25,
   "metadata": {},
   "outputs": [],
   "source": [
    "import matplotlib.pyplot as plt"
   ]
  },
  {
   "cell_type": "code",
   "execution_count": 26,
   "metadata": {},
   "outputs": [
    {
     "data": {
      "text/plain": [
       "['C1_thinF_IMG_20150604_104722_cell_15.png',\n",
       " 'C1_thinF_IMG_20150604_104722_cell_60.png',\n",
       " 'C1_thinF_IMG_20150604_104722_cell_66.png',\n",
       " 'C1_thinF_IMG_20150604_104722_cell_73.png',\n",
       " 'C1_thinF_IMG_20150604_104722_cell_9.png',\n",
       " 'C33P1thinF_IMG_20150619_114756a_cell_179.png',\n",
       " 'C33P1thinF_IMG_20150619_114756a_cell_180.png',\n",
       " 'C33P1thinF_IMG_20150619_114756a_cell_181.png',\n",
       " 'C33P1thinF_IMG_20150619_114756a_cell_182.png',\n",
       " 'C33P1thinF_IMG_20150619_115740a_cell_161.png']"
      ]
     },
     "execution_count": 26,
     "metadata": {},
     "output_type": "execute_result"
    }
   ],
   "source": [
    "import glob\n",
    "dirList = glob.glob(\"test_cells\"+\"/*.png\")\n",
    "l=[]\n",
    "for i in dirList:\n",
    "    l.append(i.lstrip('test_cells\\\\'))\n",
    "l"
   ]
  },
  {
   "cell_type": "code",
   "execution_count": 36,
   "metadata": {},
   "outputs": [
    {
     "data": {
      "text/plain": [
       "(Text(0.5, 1.0, 'Parasitized'),\n",
       " ([], <a list of 0 Text xticklabel objects>),\n",
       " ([], <a list of 0 Text yticklabel objects>))"
      ]
     },
     "execution_count": 36,
     "metadata": {},
     "output_type": "execute_result"
    },
    {
     "data": {
      "image/png": "[encoded data removed]",
      "text/plain": [
       "<Figure size 432x288 with 1 Axes>"
      ]
     },
     "metadata": {},
     "output_type": "display_data"
    }
   ],
   "source": [
    "import imageio\n",
    "plt.subplot(121),plt.imshow(imageio.imread('test_cells//'+'C33P1thinF_IMG_20150619_114756a_cell_181.png'))\n",
    "plt.title(model.predict([df.iloc[i]])[0]),plt.xticks([]),plt.yticks([])    "
   ]
  },
  {
   "cell_type": "code",
   "execution_count": 28,
   "metadata": {},
   "outputs": [],
   "source": [
    "from matplotlib.pyplot import imshow\n",
    "import numpy as np\n",
    "from PIL import Image\n",
    "\n",
    "%matplotlib inline"
   ]
  },
  {
   "cell_type": "code",
   "execution_count": 29,
   "metadata": {},
   "outputs": [],
   "source": [
    "import matplotlib.pyplot as plt"
   ]
  },
  {
   "cell_type": "code",
   "execution_count": 35,
   "metadata": {},
   "outputs": [
    {
     "data": {
      "text/plain": [
       "(Text(0.5, 1.0, 'Parasitized'),\n",
       " ([], <a list of 0 Text xticklabel objects>),\n",
       " ([], <a list of 0 Text yticklabel objects>))"
      ]
     },
     "execution_count": 35,
     "metadata": {},
     "output_type": "execute_result"
    },
    {
     "data": {
      "image/png": "[encoded data removed]",
      "text/plain": [
       "<Figure size 432x288 with 1 Axes>"
      ]
     },
     "metadata": {},
     "output_type": "display_data"
    }
   ],
   "source": [
    "plt.subplot(122),plt.imshow(imageio.imread('test_cells//'+'C33P1thinF_IMG_20150619_114756a_cell_181.png'))\n",
    "plt.title(model.predict([df.iloc[i]])[0]),plt.xticks([]),plt.yticks([])    "
   ]
  },
  {
   "cell_type": "code",
   "execution_count": null,
   "metadata": {},
   "outputs": [],
   "source": []
  },
  {
   "cell_type": "code",
   "execution_count": null,
   "metadata": {},
   "outputs": [],
   "source": []
  }
 ],
 "metadata": {
  "kernelspec": {
   "display_name": "Python 3",
   "language": "python",
   "name": "python3"
  },
  "language_info": {
   "codemirror_mode": {
    "name": "ipython",
    "version": 3
   },
   "file_extension": ".py",
   "mimetype": "text/x-python",
   "name": "python",
   "nbconvert_exporter": "python",
   "pygments_lexer": "ipython3",
   "version": "3.7.3"
  }
 },
 "nbformat": 4,
 "nbformat_minor": 2
}
